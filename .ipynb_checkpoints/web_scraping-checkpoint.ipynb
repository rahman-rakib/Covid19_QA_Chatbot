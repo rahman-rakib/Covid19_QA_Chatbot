{
 "cells": [
  {
   "cell_type": "markdown",
   "metadata": {},
   "source": [
    "# Covid-19 Chatbot"
   ]
  },
  {
   "cell_type": "markdown",
   "metadata": {},
   "source": [
    "## Part I: Fine-Tuning Data"
   ]
  },
  {
   "cell_type": "markdown",
   "metadata": {},
   "source": [
    "### 1. Load Packages"
   ]
  },
  {
   "cell_type": "code",
   "execution_count": 1,
   "metadata": {},
   "outputs": [],
   "source": [
    "# data processing libraries\n",
    "import numpy as np\n",
    "import pandas as pd"
   ]
  },
  {
   "cell_type": "code",
   "execution_count": 2,
   "metadata": {},
   "outputs": [],
   "source": [
    "# webscraping annd HTML parsing libraries\n",
    "import requests\n",
    "import re\n",
    "from bs4 import BeautifulSoup"
   ]
  },
  {
   "cell_type": "code",
   "execution_count": 3,
   "metadata": {},
   "outputs": [],
   "source": [
    "# other libraries\n",
    "import time"
   ]
  },
  {
   "cell_type": "markdown",
   "metadata": {},
   "source": [
    "### 2. URL & Link"
   ]
  },
  {
   "cell_type": "code",
   "execution_count": 4,
   "metadata": {},
   "outputs": [],
   "source": [
    "# main url\n",
    "URL = 'https://www.who.int'\n",
    "\n",
    "# header for request\n",
    "headers = {\"User-Agent\": \"Mozilla/5.0 (Macintosh; Intel Mac OS X 10_15_7) AppleWebKit/537.36 (KHTML, like Gecko) Chrome/86.0.4240.198 Safari/537.36\"}\n",
    "\n",
    "# covid sublink\n",
    "COVID_QA_SUBLINK = '/emergencies/diseases/novel-coronavirus-2019/question-and-answers-hub'"
   ]
  },
  {
   "cell_type": "markdown",
   "metadata": {},
   "source": [
    "### 3. Web Scraping & HTML Parsing"
   ]
  },
  {
   "cell_type": "markdown",
   "metadata": {},
   "source": [
    "#### 3.1 Extract covid-19 Q&A topic links"
   ]
  },
  {
   "cell_type": "code",
   "execution_count": 5,
   "metadata": {},
   "outputs": [],
   "source": [
    "# function for extracting topic hyperlinks for an covid-19 QA\n",
    "\n",
    "def topic_links():\n",
    "    \"\"\"\n",
    "    This function returns all the topic hyperlinks of covid-19 QA. \n",
    "    \"\"\"\n",
    "    covid_link = URL + COVID_QA_SUBLINK\n",
    "    html_content = requests.get(covid_link,headers=headers).text\n",
    "    \n",
    "    topic_pattern = r'<span class=\"trimmed\">(.*)</span>'\n",
    "    link_pattern = r'<a class=\"sf-list-vertical__item\" href=\"(.*)\">'\n",
    "    topic_list = re.findall(topic_pattern,html_content)\n",
    "    sublinks = re.findall(link_pattern,html_content)\n",
    "    link_list = [URL + sublink for sublink in sublinks]\n",
    "    \n",
    "    df_topic = pd.DataFrame({'topic': topic_list, 'link': link_list})\n",
    "    return df_topic"
   ]
  },
  {
   "cell_type": "code",
   "execution_count": 6,
   "metadata": {},
   "outputs": [
    {
     "data": {
      "text/html": [
       "<div>\n",
       "<style scoped>\n",
       "    .dataframe tbody tr th:only-of-type {\n",
       "        vertical-align: middle;\n",
       "    }\n",
       "\n",
       "    .dataframe tbody tr th {\n",
       "        vertical-align: top;\n",
       "    }\n",
       "\n",
       "    .dataframe thead th {\n",
       "        text-align: right;\n",
       "    }\n",
       "</style>\n",
       "<table border=\"1\" class=\"dataframe\">\n",
       "  <thead>\n",
       "    <tr style=\"text-align: right;\">\n",
       "      <th></th>\n",
       "      <th>topic</th>\n",
       "      <th>link</th>\n",
       "    </tr>\n",
       "  </thead>\n",
       "  <tbody>\n",
       "    <tr>\n",
       "      <th>0</th>\n",
       "      <td>Coronavirus disease (COVID-19)</td>\n",
       "      <td>https://www.who.int/emergencies/diseases/novel...</td>\n",
       "    </tr>\n",
       "    <tr>\n",
       "      <th>1</th>\n",
       "      <td>Coronavirus disease (COVID-19): Adolescents an...</td>\n",
       "      <td>https://www.who.int/emergencies/diseases/novel...</td>\n",
       "    </tr>\n",
       "    <tr>\n",
       "      <th>2</th>\n",
       "      <td>Coronavirus disease (COVID-19): Breastfeeding</td>\n",
       "      <td>https://www.who.int/emergencies/diseases/novel...</td>\n",
       "    </tr>\n",
       "    <tr>\n",
       "      <th>3</th>\n",
       "      <td>Coronavirus disease (COVID-19): Casirivimab an...</td>\n",
       "      <td>https://www.who.int/emergencies/diseases/novel...</td>\n",
       "    </tr>\n",
       "    <tr>\n",
       "      <th>4</th>\n",
       "      <td>Coronavirus disease (COVID-19): Children and m...</td>\n",
       "      <td>https://www.who.int/emergencies/diseases/novel...</td>\n",
       "    </tr>\n",
       "  </tbody>\n",
       "</table>\n",
       "</div>"
      ],
      "text/plain": [
       "                                               topic  \\\n",
       "0                     Coronavirus disease (COVID-19)   \n",
       "1  Coronavirus disease (COVID-19): Adolescents an...   \n",
       "2      Coronavirus disease (COVID-19): Breastfeeding   \n",
       "3  Coronavirus disease (COVID-19): Casirivimab an...   \n",
       "4  Coronavirus disease (COVID-19): Children and m...   \n",
       "\n",
       "                                                link  \n",
       "0  https://www.who.int/emergencies/diseases/novel...  \n",
       "1  https://www.who.int/emergencies/diseases/novel...  \n",
       "2  https://www.who.int/emergencies/diseases/novel...  \n",
       "3  https://www.who.int/emergencies/diseases/novel...  \n",
       "4  https://www.who.int/emergencies/diseases/novel...  "
      ]
     },
     "execution_count": 6,
     "metadata": {},
     "output_type": "execute_result"
    }
   ],
   "source": [
    "# dataframe of topic links\n",
    "df_topic = topic_links()\n",
    "df_topic.head()"
   ]
  },
  {
   "cell_type": "code",
   "execution_count": 7,
   "metadata": {},
   "outputs": [
    {
     "data": {
      "text/plain": [
       "(56, 2)"
      ]
     },
     "execution_count": 7,
     "metadata": {},
     "output_type": "execute_result"
    }
   ],
   "source": [
    "df_topic.shape"
   ]
  },
  {
   "cell_type": "code",
   "execution_count": 8,
   "metadata": {},
   "outputs": [
    {
     "name": "stdout",
     "output_type": "stream",
     "text": [
      "<class 'pandas.core.frame.DataFrame'>\n",
      "RangeIndex: 56 entries, 0 to 55\n",
      "Data columns (total 2 columns):\n",
      " #   Column  Non-Null Count  Dtype \n",
      "---  ------  --------------  ----- \n",
      " 0   topic   56 non-null     object\n",
      " 1   link    56 non-null     object\n",
      "dtypes: object(2)\n",
      "memory usage: 1.0+ KB\n"
     ]
    }
   ],
   "source": [
    "df_topic.info()"
   ]
  },
  {
   "cell_type": "markdown",
   "metadata": {},
   "source": [
    "#### 3.2 Extract Q&A from topic links"
   ]
  },
  {
   "cell_type": "code",
   "execution_count": 9,
   "metadata": {},
   "outputs": [],
   "source": [
    "# function for extracting all qa's of a topic\n",
    "\n",
    "def qa_extractor(topic_link):\n",
    "    \"\"\"\n",
    "    This function returns QA pairs for a given topic \n",
    "    \"\"\"\n",
    "    topic_content = requests.get(topic_link,headers=headers).text\n",
    "    topic_soup = BeautifulSoup(topic_content,'html.parser')\n",
    "\n",
    "    questions = topic_soup.find_all('div', class_= 'sf-accordion__trigger-panel')\n",
    "    question_list = [question.text.strip() for question in questions]\n",
    "    \n",
    "    answers = topic_soup.find_all('div', class_= 'sf-accordion__content')\n",
    "    answer_list = []\n",
    "    for answer in answers:\n",
    "        answer = answer.find_all(text=True)\n",
    "        answer = [text.replace('\\n',' ') for text in answer if text not in ['\\n','\\xa0']]\n",
    "        answer = [text.replace('\\xa0',' ') for text in answer]\n",
    "        answer_list.append(' '.join([text for text in answer]))\n",
    "\n",
    "\n",
    "    df_qa = pd.DataFrame({'question': question_list, 'answer': answer_list})\n",
    "    return df_qa"
   ]
  },
  {
   "cell_type": "code",
   "execution_count": 10,
   "metadata": {},
   "outputs": [],
   "source": [
    "# creating the Q&A dataframe\n",
    "link_list = list(df_topic['link'])\n",
    "df = pd.concat([qa_extractor(link) for link in link_list], ignore_index=True)"
   ]
  },
  {
   "cell_type": "code",
   "execution_count": 11,
   "metadata": {},
   "outputs": [
    {
     "data": {
      "text/html": [
       "<div>\n",
       "<style scoped>\n",
       "    .dataframe tbody tr th:only-of-type {\n",
       "        vertical-align: middle;\n",
       "    }\n",
       "\n",
       "    .dataframe tbody tr th {\n",
       "        vertical-align: top;\n",
       "    }\n",
       "\n",
       "    .dataframe thead th {\n",
       "        text-align: right;\n",
       "    }\n",
       "</style>\n",
       "<table border=\"1\" class=\"dataframe\">\n",
       "  <thead>\n",
       "    <tr style=\"text-align: right;\">\n",
       "      <th></th>\n",
       "      <th>question</th>\n",
       "      <th>answer</th>\n",
       "    </tr>\n",
       "  </thead>\n",
       "  <tbody>\n",
       "    <tr>\n",
       "      <th>0</th>\n",
       "      <td>What is COVID-19?</td>\n",
       "      <td>COVID-19 is the disease caused by a new corona...</td>\n",
       "    </tr>\n",
       "    <tr>\n",
       "      <th>1</th>\n",
       "      <td>What are the symptoms of COVID-19?</td>\n",
       "      <td>The most common symptoms of COVID-19 are Fever...</td>\n",
       "    </tr>\n",
       "    <tr>\n",
       "      <th>2</th>\n",
       "      <td>What happens to people who get COVID-19?</td>\n",
       "      <td>Among those who develop symptoms, most (about ...</td>\n",
       "    </tr>\n",
       "    <tr>\n",
       "      <th>3</th>\n",
       "      <td>Who is most at risk of severe illness from COV...</td>\n",
       "      <td>People aged 60 years and over, and those with ...</td>\n",
       "    </tr>\n",
       "    <tr>\n",
       "      <th>4</th>\n",
       "      <td>Are there long-term effects of COVID-19?</td>\n",
       "      <td>Some people who have had COVID-19, whether the...</td>\n",
       "    </tr>\n",
       "  </tbody>\n",
       "</table>\n",
       "</div>"
      ],
      "text/plain": [
       "                                            question  \\\n",
       "0                                  What is COVID-19?   \n",
       "1                 What are the symptoms of COVID-19?   \n",
       "2           What happens to people who get COVID-19?   \n",
       "3  Who is most at risk of severe illness from COV...   \n",
       "4           Are there long-term effects of COVID-19?   \n",
       "\n",
       "                                              answer  \n",
       "0  COVID-19 is the disease caused by a new corona...  \n",
       "1  The most common symptoms of COVID-19 are Fever...  \n",
       "2  Among those who develop symptoms, most (about ...  \n",
       "3  People aged 60 years and over, and those with ...  \n",
       "4  Some people who have had COVID-19, whether the...  "
      ]
     },
     "execution_count": 11,
     "metadata": {},
     "output_type": "execute_result"
    }
   ],
   "source": [
    "df.head()"
   ]
  },
  {
   "cell_type": "code",
   "execution_count": 12,
   "metadata": {},
   "outputs": [
    {
     "data": {
      "text/plain": [
       "(516, 2)"
      ]
     },
     "execution_count": 12,
     "metadata": {},
     "output_type": "execute_result"
    }
   ],
   "source": [
    "df.shape"
   ]
  },
  {
   "cell_type": "code",
   "execution_count": 13,
   "metadata": {},
   "outputs": [
    {
     "name": "stdout",
     "output_type": "stream",
     "text": [
      "<class 'pandas.core.frame.DataFrame'>\n",
      "RangeIndex: 516 entries, 0 to 515\n",
      "Data columns (total 2 columns):\n",
      " #   Column    Non-Null Count  Dtype \n",
      "---  ------    --------------  ----- \n",
      " 0   question  516 non-null    object\n",
      " 1   answer    516 non-null    object\n",
      "dtypes: object(2)\n",
      "memory usage: 8.2+ KB\n"
     ]
    }
   ],
   "source": [
    "df.info()"
   ]
  },
  {
   "cell_type": "markdown",
   "metadata": {},
   "source": [
    "### 4. Data Cleaning"
   ]
  },
  {
   "cell_type": "code",
   "execution_count": 14,
   "metadata": {},
   "outputs": [
    {
     "data": {
      "text/html": [
       "<div>\n",
       "<style scoped>\n",
       "    .dataframe tbody tr th:only-of-type {\n",
       "        vertical-align: middle;\n",
       "    }\n",
       "\n",
       "    .dataframe tbody tr th {\n",
       "        vertical-align: top;\n",
       "    }\n",
       "\n",
       "    .dataframe thead th {\n",
       "        text-align: right;\n",
       "    }\n",
       "</style>\n",
       "<table border=\"1\" class=\"dataframe\">\n",
       "  <thead>\n",
       "    <tr style=\"text-align: right;\">\n",
       "      <th></th>\n",
       "      <th>question</th>\n",
       "      <th>answer</th>\n",
       "    </tr>\n",
       "  </thead>\n",
       "  <tbody>\n",
       "    <tr>\n",
       "      <th>330</th>\n",
       "      <td>What is physical activity?</td>\n",
       "      <td>[if gte mso 9]&gt;&lt;xml&gt;  &lt;w:WordDocument&gt;   &lt;w:Vi...</td>\n",
       "    </tr>\n",
       "    <tr>\n",
       "      <th>331</th>\n",
       "      <td>Why do we need it?</td>\n",
       "      <td>[if gte mso 9]&gt;&lt;xml&gt;  &lt;w:WordDocument&gt;   &lt;w:Vi...</td>\n",
       "    </tr>\n",
       "  </tbody>\n",
       "</table>\n",
       "</div>"
      ],
      "text/plain": [
       "                       question  \\\n",
       "330  What is physical activity?   \n",
       "331          Why do we need it?   \n",
       "\n",
       "                                                answer  \n",
       "330  [if gte mso 9]><xml>  <w:WordDocument>   <w:Vi...  \n",
       "331  [if gte mso 9]><xml>  <w:WordDocument>   <w:Vi...  "
      ]
     },
     "execution_count": 14,
     "metadata": {},
     "output_type": "execute_result"
    }
   ],
   "source": [
    "# unclean text (some text remains partially unparsed, and contain ><)\n",
    "df_unclean = df[df['answer'].apply(lambda x: '><' in x)]\n",
    "df_unclean"
   ]
  },
  {
   "cell_type": "code",
   "execution_count": 15,
   "metadata": {},
   "outputs": [
    {
     "name": "stdout",
     "output_type": "stream",
     "text": [
      "number of unclean texts: 0\n"
     ]
    }
   ],
   "source": [
    "# clean text\n",
    "for index in list(df_unclean.index):\n",
    "    df.loc[index,'answer'] = df.iloc[index]['answer'].split('[endif]')[-1].strip()\n",
    "    \n",
    "# check cleaning\n",
    "n_unlcean = df[df['answer'].apply(lambda x: '><' in x)].shape[0]\n",
    "print(f'number of unclean texts: {n_unlcean}')"
   ]
  },
  {
   "cell_type": "markdown",
   "metadata": {},
   "source": [
    "### 5. Data Resize"
   ]
  },
  {
   "cell_type": "code",
   "execution_count": 16,
   "metadata": {},
   "outputs": [
    {
     "data": {
      "text/html": [
       "<div>\n",
       "<style scoped>\n",
       "    .dataframe tbody tr th:only-of-type {\n",
       "        vertical-align: middle;\n",
       "    }\n",
       "\n",
       "    .dataframe tbody tr th {\n",
       "        vertical-align: top;\n",
       "    }\n",
       "\n",
       "    .dataframe thead th {\n",
       "        text-align: right;\n",
       "    }\n",
       "</style>\n",
       "<table border=\"1\" class=\"dataframe\">\n",
       "  <thead>\n",
       "    <tr style=\"text-align: right;\">\n",
       "      <th></th>\n",
       "      <th>question</th>\n",
       "      <th>answer</th>\n",
       "      <th>token</th>\n",
       "    </tr>\n",
       "  </thead>\n",
       "  <tbody>\n",
       "    <tr>\n",
       "      <th>0</th>\n",
       "      <td>What is COVID-19?</td>\n",
       "      <td>COVID-19 is the disease caused by a new corona...</td>\n",
       "      <td>57</td>\n",
       "    </tr>\n",
       "    <tr>\n",
       "      <th>1</th>\n",
       "      <td>What are the symptoms of COVID-19?</td>\n",
       "      <td>The most common symptoms of COVID-19 are Fever...</td>\n",
       "      <td>228</td>\n",
       "    </tr>\n",
       "    <tr>\n",
       "      <th>2</th>\n",
       "      <td>What happens to people who get COVID-19?</td>\n",
       "      <td>Among those who develop symptoms, most (about ...</td>\n",
       "      <td>116</td>\n",
       "    </tr>\n",
       "    <tr>\n",
       "      <th>3</th>\n",
       "      <td>Who is most at risk of severe illness from COV...</td>\n",
       "      <td>People aged 60 years and over, and those with ...</td>\n",
       "      <td>80</td>\n",
       "    </tr>\n",
       "    <tr>\n",
       "      <th>4</th>\n",
       "      <td>Are there long-term effects of COVID-19?</td>\n",
       "      <td>Some people who have had COVID-19, whether the...</td>\n",
       "      <td>133</td>\n",
       "    </tr>\n",
       "  </tbody>\n",
       "</table>\n",
       "</div>"
      ],
      "text/plain": [
       "                                            question  \\\n",
       "0                                  What is COVID-19?   \n",
       "1                 What are the symptoms of COVID-19?   \n",
       "2           What happens to people who get COVID-19?   \n",
       "3  Who is most at risk of severe illness from COV...   \n",
       "4           Are there long-term effects of COVID-19?   \n",
       "\n",
       "                                              answer  token  \n",
       "0  COVID-19 is the disease caused by a new corona...     57  \n",
       "1  The most common symptoms of COVID-19 are Fever...    228  \n",
       "2  Among those who develop symptoms, most (about ...    116  \n",
       "3  People aged 60 years and over, and those with ...     80  \n",
       "4  Some people who have had COVID-19, whether the...    133  "
      ]
     },
     "execution_count": 16,
     "metadata": {},
     "output_type": "execute_result"
    }
   ],
   "source": [
    "# token calculation\n",
    "df['token'] = df.apply(lambda x: int(len((x['question']+' '+x['answer']).split(' '))/0.75),axis=1)\n",
    "df.head()"
   ]
  },
  {
   "cell_type": "code",
   "execution_count": 17,
   "metadata": {},
   "outputs": [
    {
     "data": {
      "text/html": [
       "<div>\n",
       "<style scoped>\n",
       "    .dataframe tbody tr th:only-of-type {\n",
       "        vertical-align: middle;\n",
       "    }\n",
       "\n",
       "    .dataframe tbody tr th {\n",
       "        vertical-align: top;\n",
       "    }\n",
       "\n",
       "    .dataframe thead th {\n",
       "        text-align: right;\n",
       "    }\n",
       "</style>\n",
       "<table border=\"1\" class=\"dataframe\">\n",
       "  <thead>\n",
       "    <tr style=\"text-align: right;\">\n",
       "      <th></th>\n",
       "      <th>question</th>\n",
       "      <th>answer</th>\n",
       "      <th>token</th>\n",
       "    </tr>\n",
       "  </thead>\n",
       "  <tbody>\n",
       "    <tr>\n",
       "      <th>26</th>\n",
       "      <td>COVID-19 makes me really anxious. I feel worri...</td>\n",
       "      <td>In situations like a pandemic it is very norma...</td>\n",
       "      <td>1117</td>\n",
       "    </tr>\n",
       "    <tr>\n",
       "      <th>207</th>\n",
       "      <td>Are people living with HIV at increased risk o...</td>\n",
       "      <td>People living with HIV (PLHIV) who are not tak...</td>\n",
       "      <td>1010</td>\n",
       "    </tr>\n",
       "    <tr>\n",
       "      <th>217</th>\n",
       "      <td>Someone in my household tested positive for CO...</td>\n",
       "      <td>It’s hard when someone close to you is unwell....</td>\n",
       "      <td>1128</td>\n",
       "    </tr>\n",
       "  </tbody>\n",
       "</table>\n",
       "</div>"
      ],
      "text/plain": [
       "                                              question  \\\n",
       "26   COVID-19 makes me really anxious. I feel worri...   \n",
       "207  Are people living with HIV at increased risk o...   \n",
       "217  Someone in my household tested positive for CO...   \n",
       "\n",
       "                                                answer  token  \n",
       "26   In situations like a pandemic it is very norma...   1117  \n",
       "207  People living with HIV (PLHIV) who are not tak...   1010  \n",
       "217  It’s hard when someone close to you is unwell....   1128  "
      ]
     },
     "execution_count": 17,
     "metadata": {},
     "output_type": "execute_result"
    }
   ],
   "source": [
    "# large tokens\n",
    "df[df['token']>1000]"
   ]
  },
  {
   "cell_type": "code",
   "execution_count": 18,
   "metadata": {},
   "outputs": [],
   "source": [
    "# resize case by case\n",
    "\n",
    "# website reference removed\n",
    "df.loc[26,'answer'] = df.iloc[26]['answer'].split('Find out more on our')[0].strip()\n",
    "\n",
    "# additional information about WHO platform removed \n",
    "df.loc[207,'answer'] = df.iloc[207]['answer'].split('For this purpose, WHO has')[0].strip()\n",
    "\n",
    "# additional information about virus spread removed \n",
    "df.loc[217,'answer'] = df.iloc[217]['answer'].split('The virus can also spread')[0].strip()"
   ]
  },
  {
   "cell_type": "code",
   "execution_count": 19,
   "metadata": {},
   "outputs": [
    {
     "name": "stdout",
     "output_type": "stream",
     "text": [
      "maximum token: 996\n"
     ]
    }
   ],
   "source": [
    "# token recalculation\n",
    "df['token'] = df.apply(lambda x: int(len((x['question']+' '+x['answer']).split(' '))/0.75),axis=1)\n",
    "max_token = df['token'].max()\n",
    "print(f'maximum token: {max_token}')"
   ]
  },
  {
   "cell_type": "markdown",
   "metadata": {},
   "source": [
    "### 6. Cost Estimate"
   ]
  },
  {
   "cell_type": "code",
   "execution_count": 20,
   "metadata": {},
   "outputs": [
    {
     "name": "stdout",
     "output_type": "stream",
     "text": [
      "cost: 2.63$\n"
     ]
    }
   ],
   "source": [
    "# cost calculation\n",
    "tuning_cost = round(4*(df['token'].sum())*(0.006/1000),2)\n",
    "print(f'cost: {tuning_cost}$')"
   ]
  },
  {
   "cell_type": "markdown",
   "metadata": {},
   "source": [
    "### 7. Save Data"
   ]
  },
  {
   "cell_type": "code",
   "execution_count": 21,
   "metadata": {},
   "outputs": [],
   "source": [
    "# create dataframe\n",
    "df_tuning = df.drop('token',axis=1)\n",
    "df_tuning.rename(columns={'question':'prompt', 'answer':'completion'}, inplace=True)\n",
    "\n",
    "# add an extra space before completion \n",
    "df_tuning['completion'] = df_tuning['completion'].apply(lambda text: ' '+text)"
   ]
  },
  {
   "cell_type": "code",
   "execution_count": 22,
   "metadata": {},
   "outputs": [
    {
     "data": {
      "text/html": [
       "<div>\n",
       "<style scoped>\n",
       "    .dataframe tbody tr th:only-of-type {\n",
       "        vertical-align: middle;\n",
       "    }\n",
       "\n",
       "    .dataframe tbody tr th {\n",
       "        vertical-align: top;\n",
       "    }\n",
       "\n",
       "    .dataframe thead th {\n",
       "        text-align: right;\n",
       "    }\n",
       "</style>\n",
       "<table border=\"1\" class=\"dataframe\">\n",
       "  <thead>\n",
       "    <tr style=\"text-align: right;\">\n",
       "      <th></th>\n",
       "      <th>prompt</th>\n",
       "      <th>completion</th>\n",
       "    </tr>\n",
       "  </thead>\n",
       "  <tbody>\n",
       "    <tr>\n",
       "      <th>0</th>\n",
       "      <td>What is COVID-19?</td>\n",
       "      <td>COVID-19 is the disease caused by a new coron...</td>\n",
       "    </tr>\n",
       "    <tr>\n",
       "      <th>1</th>\n",
       "      <td>What are the symptoms of COVID-19?</td>\n",
       "      <td>The most common symptoms of COVID-19 are Feve...</td>\n",
       "    </tr>\n",
       "    <tr>\n",
       "      <th>2</th>\n",
       "      <td>What happens to people who get COVID-19?</td>\n",
       "      <td>Among those who develop symptoms, most (about...</td>\n",
       "    </tr>\n",
       "    <tr>\n",
       "      <th>3</th>\n",
       "      <td>Who is most at risk of severe illness from COV...</td>\n",
       "      <td>People aged 60 years and over, and those with...</td>\n",
       "    </tr>\n",
       "    <tr>\n",
       "      <th>4</th>\n",
       "      <td>Are there long-term effects of COVID-19?</td>\n",
       "      <td>Some people who have had COVID-19, whether th...</td>\n",
       "    </tr>\n",
       "  </tbody>\n",
       "</table>\n",
       "</div>"
      ],
      "text/plain": [
       "                                              prompt  \\\n",
       "0                                  What is COVID-19?   \n",
       "1                 What are the symptoms of COVID-19?   \n",
       "2           What happens to people who get COVID-19?   \n",
       "3  Who is most at risk of severe illness from COV...   \n",
       "4           Are there long-term effects of COVID-19?   \n",
       "\n",
       "                                          completion  \n",
       "0   COVID-19 is the disease caused by a new coron...  \n",
       "1   The most common symptoms of COVID-19 are Feve...  \n",
       "2   Among those who develop symptoms, most (about...  \n",
       "3   People aged 60 years and over, and those with...  \n",
       "4   Some people who have had COVID-19, whether th...  "
      ]
     },
     "execution_count": 22,
     "metadata": {},
     "output_type": "execute_result"
    }
   ],
   "source": [
    "df_tuning.head()"
   ]
  },
  {
   "cell_type": "code",
   "execution_count": 23,
   "metadata": {},
   "outputs": [
    {
     "name": "stdout",
     "output_type": "stream",
     "text": [
      "<class 'pandas.core.frame.DataFrame'>\n",
      "RangeIndex: 516 entries, 0 to 515\n",
      "Data columns (total 2 columns):\n",
      " #   Column      Non-Null Count  Dtype \n",
      "---  ------      --------------  ----- \n",
      " 0   prompt      516 non-null    object\n",
      " 1   completion  516 non-null    object\n",
      "dtypes: object(2)\n",
      "memory usage: 8.2+ KB\n"
     ]
    }
   ],
   "source": [
    "df_tuning.info()"
   ]
  },
  {
   "cell_type": "code",
   "execution_count": 24,
   "metadata": {},
   "outputs": [],
   "source": [
    "# save a csv file\n",
    "df_tuning.to_csv('covid19_qa.csv',index=False)"
   ]
  },
  {
   "cell_type": "code",
   "execution_count": null,
   "metadata": {},
   "outputs": [],
   "source": []
  }
 ],
 "metadata": {
  "kernelspec": {
   "display_name": "Python 3",
   "language": "python",
   "name": "python3"
  },
  "language_info": {
   "codemirror_mode": {
    "name": "ipython",
    "version": 3
   },
   "file_extension": ".py",
   "mimetype": "text/x-python",
   "name": "python",
   "nbconvert_exporter": "python",
   "pygments_lexer": "ipython3",
   "version": "3.7.6"
  }
 },
 "nbformat": 4,
 "nbformat_minor": 4
}
